{
 "cells": [
  {
   "cell_type": "code",
   "execution_count": 61,
   "metadata": {},
   "outputs": [
    {
     "name": "stdout",
     "output_type": "stream",
     "text": [
      "Decrypted plaintext:  review DES - weak KEY\u0003\u0003\u0003\n"
     ]
    }
   ],
   "source": [
    "from Crypto.Cipher import DES\n",
    "from base64 import b64decode,b64encode\n",
    "\n",
    "def des_decrypt(cipher_text, key, iv):\n",
    "    cipher = DES.new(key, DES.MODE_CBC, iv)\n",
    "    decrypted = cipher.decrypt(cipher_text)\n",
    "    return decrypted.decode('utf-8')\n",
    "\n",
    "cipher_text = b64decode(\"jtEl85W3Riqjk56bj+7J5YcYhHvzHc6d\")\n",
    "iv = b64decode(\"VyUR14UQP/0=\")\n",
    "weak_key = b\"\\xE0\\xE0\\xE0\\xE0\\xF1\\xF1\\xF1\\xF1\"\n",
    "\n",
    "plaintext = des_decrypt(cipher_text, weak_key, iv)\n",
    "print(\"Decrypted plaintext: \", plaintext)\n"
   ]
  },
  {
   "cell_type": "code",
   "execution_count": null,
   "metadata": {},
   "outputs": [],
   "source": []
  }
 ],
 "metadata": {
  "kernelspec": {
   "display_name": "Python 3",
   "language": "python",
   "name": "python3"
  },
  "language_info": {
   "codemirror_mode": {
    "name": "ipython",
    "version": 3
   },
   "file_extension": ".py",
   "mimetype": "text/x-python",
   "name": "python",
   "nbconvert_exporter": "python",
   "pygments_lexer": "ipython3",
   "version": "3.10.9"
  },
  "orig_nbformat": 4
 },
 "nbformat": 4,
 "nbformat_minor": 2
}
