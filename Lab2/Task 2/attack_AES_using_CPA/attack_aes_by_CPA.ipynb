{
 "cells": [
  {
   "cell_type": "code",
   "execution_count": 3,
   "metadata": {},
   "outputs": [
    {
     "name": "stdout",
     "output_type": "stream",
     "text": [
      "Key not found in dictionary.\n",
      ":( can find plaintext, try another one.\n"
     ]
    }
   ],
   "source": [
    "from Crypto.Cipher import AES\n",
    "from Crypto.Util.Padding import pad\n",
    "import binascii\n",
    "\n",
    "# Define known IV and ciphertext\n",
    "known_iv = binascii.unhexlify(\"0123456789abcdef0123456789abcdef\")\n",
    "known_ciphertext = binascii.unhexlify(\"48a24b2c3b2a31e2b9ebdedd4fe9b5c3\")\n",
    "\n",
    "# Define a block of chosen plaintext\n",
    "chosen_plaintext = b\"This is my chosen plaintext\"\n",
    "\n",
    "# Generate a dictionary of all possible keys\n",
    "key_dict = {}\n",
    "for i in range(256):\n",
    "    key = bytes([i]) * 16\n",
    "    cipher = AES.new(key, AES.MODE_CBC, iv=known_iv)\n",
    "    ciphertext = cipher.encrypt(pad(chosen_plaintext, AES.block_size))\n",
    "    key_dict[ciphertext] = key\n",
    "\n",
    "# Encrypt the known plaintext using the found key\n",
    "if known_ciphertext in key_dict:\n",
    "    cipher = AES.new(key_dict[known_ciphertext], AES.MODE_CBC, iv=known_iv)\n",
    "    recovered_plaintext = cipher.decrypt(known_ciphertext)\n",
    "    print(\"Recovered key:\", binascii.hexlify(key_dict[known_ciphertext]))\n",
    "    print(\"Recovered plaintext:\", recovered_plaintext)\n",
    "else:\n",
    "    print(\"Key not found in dictionary.\")\n",
    "    print(\":( can find plaintext, try another.\")"
   ]
  }
 ],
 "metadata": {
  "kernelspec": {
   "display_name": "Python 3",
   "language": "python",
   "name": "python3"
  },
  "language_info": {
   "codemirror_mode": {
    "name": "ipython",
    "version": 3
   },
   "file_extension": ".py",
   "mimetype": "text/x-python",
   "name": "python",
   "nbconvert_exporter": "python",
   "pygments_lexer": "ipython3",
   "version": "3.10.9"
  },
  "orig_nbformat": 4
 },
 "nbformat": 4,
 "nbformat_minor": 2
}
