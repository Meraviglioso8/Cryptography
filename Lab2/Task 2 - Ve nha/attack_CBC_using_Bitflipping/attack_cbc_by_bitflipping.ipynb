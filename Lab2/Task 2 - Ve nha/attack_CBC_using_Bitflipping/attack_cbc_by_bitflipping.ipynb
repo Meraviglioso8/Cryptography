{
 "cells": [
  {
   "cell_type": "code",
   "execution_count": 96,
   "metadata": {},
   "outputs": [
    {
     "name": "stdout",
     "output_type": "stream",
     "text": [
      "Original Message: TraToi100000\n",
      "Ciphertext      : 07n60VODhWpPoIMz7xaNzt9f+tXqPDh4BvJ6YbrsJqY=\n",
      "New text      : TraToi300000\n"
     ]
    }
   ],
   "source": [
    "from base64 import b64decode\n",
    "from base64 import b64encode\n",
    "\n",
    "from Crypto.Cipher import AES\n",
    "from Crypto.Random import get_random_bytes\n",
    "from Crypto.Util.Padding import pad, unpad\n",
    "\n",
    "\n",
    "class AESCipher:\n",
    "    def __init__(self, key):\n",
    "        self.key = key\n",
    "    \n",
    "    #enc\n",
    "    def encrypt(self, data):\n",
    "        iv = get_random_bytes(AES.block_size)\n",
    "        self.cipher = AES.new(self.key, AES.MODE_CBC, iv)\n",
    "        return b64encode(iv + self.cipher.encrypt(pad(data.encode('utf-8'), \n",
    "            AES.block_size)))\n",
    "    \n",
    "    #decrypt\n",
    "    def decrypt(self, data):\n",
    "        raw = b64decode(data)\n",
    "        self.cipher = AES.new(self.key, AES.MODE_CBC, raw[:AES.block_size])\n",
    "        return unpad(self.cipher.decrypt(raw[AES.block_size:]), AES.block_size).decode('utf-8')\n",
    "\n",
    "#flip bit to change data    \n",
    "def bitFlip(pos, bit, data):\n",
    "    raw = b64decode(data)\n",
    "    list1 = bytearray(raw)\n",
    "    list1[pos] = list1[pos] ^ (1 << bit)\n",
    "    raw = bytes(list1)\n",
    "    return b64encode(raw)\n",
    "\n",
    "\n",
    "if __name__ == '__main__':\n",
    "    \n",
    "    key = b'here is the keya'\n",
    "    msg = \"TraToi100000\"\n",
    "    \n",
    "    print('Original Message:', msg)\n",
    "\n",
    "    ctx = AESCipher(key).encrypt(msg).decode('utf-8')\n",
    "    print('Ciphertext      :', ctx)\n",
    "\n",
    "    ctx = bitFlip(6,1,ctx)\n",
    "\n",
    "    print('New text      :', AESCipher(key).decrypt(ctx))\n"
   ]
  }
 ],
 "metadata": {
  "kernelspec": {
   "display_name": "Python 3",
   "language": "python",
   "name": "python3"
  },
  "language_info": {
   "codemirror_mode": {
    "name": "ipython",
    "version": 3
   },
   "file_extension": ".py",
   "mimetype": "text/x-python",
   "name": "python",
   "nbconvert_exporter": "python",
   "pygments_lexer": "ipython3",
   "version": "3.10.9"
  },
  "orig_nbformat": 4
 },
 "nbformat": 4,
 "nbformat_minor": 2
}
